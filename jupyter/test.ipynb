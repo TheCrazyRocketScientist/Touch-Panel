{
 "cells": [
  {
   "cell_type": "code",
   "execution_count": 2,
   "id": "41d48dd8",
   "metadata": {},
   "outputs": [
    {
     "name": "stderr",
     "output_type": "stream",
     "text": [
      "C:\\Users\\starm\\AppData\\Local\\Temp\\ipykernel_18836\\3296909529.py:11: UserWarning: Using default sampling frequency set in configuration file.\n",
      "  X = tsfel.time_series_features_extractor(cfg, data)\n"
     ]
    },
    {
     "data": {
      "text/html": [
       "\n",
       "              <p>\n",
       "                  Progress: 1% Complete\n",
       "              <p/>\n",
       "              <progress\n",
       "                  value='1'\n",
       "                  max='67',\n",
       "                  style='width: 25%',\n",
       "              >\n",
       "                  1\n",
       "              </progress>\n",
       "\n",
       "    "
      ],
      "text/plain": [
       "<IPython.core.display.HTML object>"
      ]
     },
     "metadata": {},
     "output_type": "display_data"
    },
    {
     "ename": "KeyError",
     "evalue": "'spectrogram_mean_coeff'",
     "output_type": "error",
     "traceback": [
      "\u001b[31m---------------------------------------------------------------------------\u001b[39m",
      "\u001b[31mKeyError\u001b[39m                                  Traceback (most recent call last)",
      "\u001b[36mCell\u001b[39m\u001b[36m \u001b[39m\u001b[32mIn[2]\u001b[39m\u001b[32m, line 11\u001b[39m\n\u001b[32m      8\u001b[39m cfg = tsfel.get_features_by_domain()\n\u001b[32m     10\u001b[39m \u001b[38;5;66;03m# Extract features\u001b[39;00m\n\u001b[32m---> \u001b[39m\u001b[32m11\u001b[39m X = \u001b[43mtsfel\u001b[49m\u001b[43m.\u001b[49m\u001b[43mtime_series_features_extractor\u001b[49m\u001b[43m(\u001b[49m\u001b[43mcfg\u001b[49m\u001b[43m,\u001b[49m\u001b[43m \u001b[49m\u001b[43mdata\u001b[49m\u001b[43m)\u001b[49m\n",
      "\u001b[36mFile \u001b[39m\u001b[32md:\\miniconda\\envs\\touchPanel\\Lib\\site-packages\\tsfel\\feature_extraction\\calc_features.py:377\u001b[39m, in \u001b[36mtime_series_features_extractor\u001b[39m\u001b[34m(config, timeseries, fs, window_size, overlap, verbose, **kwargs)\u001b[39m\n\u001b[32m    372\u001b[39m         \u001b[38;5;28;01mraise\u001b[39;00m \u001b[38;5;167;01mSystemExit\u001b[39;00m(\n\u001b[32m    373\u001b[39m             \u001b[33m\"\u001b[39m\u001b[33mn_jobs value is not valid. \u001b[39m\u001b[33m\"\u001b[39m \u001b[33m\"\u001b[39m\u001b[33mChoose an integer value or None for no multiprocessing.\u001b[39m\u001b[33m\"\u001b[39m,\n\u001b[32m    374\u001b[39m         )\n\u001b[32m    375\u001b[39m \u001b[38;5;66;03m# single window\u001b[39;00m\n\u001b[32m    376\u001b[39m \u001b[38;5;28;01melse\u001b[39;00m:\n\u001b[32m--> \u001b[39m\u001b[32m377\u001b[39m     features_final = \u001b[43mcalc_window_features\u001b[49m\u001b[43m(\u001b[49m\n\u001b[32m    378\u001b[39m \u001b[43m        \u001b[49m\u001b[43mconfig\u001b[49m\u001b[43m,\u001b[49m\n\u001b[32m    379\u001b[39m \u001b[43m        \u001b[49m\u001b[43mtimeseries\u001b[49m\u001b[43m,\u001b[49m\n\u001b[32m    380\u001b[39m \u001b[43m        \u001b[49m\u001b[43mfs\u001b[49m\u001b[43m,\u001b[49m\n\u001b[32m    381\u001b[39m \u001b[43m        \u001b[49m\u001b[43mverbose\u001b[49m\u001b[43m=\u001b[49m\u001b[43mverbose\u001b[49m\u001b[43m,\u001b[49m\n\u001b[32m    382\u001b[39m \u001b[43m        \u001b[49m\u001b[43mfeatures_path\u001b[49m\u001b[43m=\u001b[49m\u001b[43mfeatures_path\u001b[49m\u001b[43m,\u001b[49m\n\u001b[32m    383\u001b[39m \u001b[43m        \u001b[49m\u001b[43mheader_names\u001b[49m\u001b[43m=\u001b[49m\u001b[43mnames\u001b[49m\u001b[43m,\u001b[49m\n\u001b[32m    384\u001b[39m \u001b[43m        \u001b[49m\u001b[43msingle_window\u001b[49m\u001b[43m=\u001b[49m\u001b[38;5;28;43;01mTrue\u001b[39;49;00m\u001b[43m,\u001b[49m\n\u001b[32m    385\u001b[39m \u001b[43m    \u001b[49m\u001b[43m)\u001b[49m\n\u001b[32m    387\u001b[39m \u001b[38;5;66;03m# Assuring the same feature extraction order\u001b[39;00m\n\u001b[32m    388\u001b[39m features_final = features_final.reindex(\u001b[38;5;28msorted\u001b[39m(features_final.columns), axis=\u001b[32m1\u001b[39m)\n",
      "\u001b[36mFile \u001b[39m\u001b[32md:\\miniconda\\envs\\touchPanel\\Lib\\site-packages\\tsfel\\feature_extraction\\calc_features.py:510\u001b[39m, in \u001b[36mcalc_window_features\u001b[39m\u001b[34m(config, window, fs, verbose, single_window, **kwargs)\u001b[39m\n\u001b[32m    508\u001b[39m \u001b[38;5;66;03m# Eval feature results\u001b[39;00m\n\u001b[32m    509\u001b[39m \u001b[38;5;28;01mif\u001b[39;00m single_axis:\n\u001b[32m--> \u001b[39m\u001b[32m510\u001b[39m     eval_result = \u001b[38;5;28;43mlocals\u001b[39;49m\u001b[43m(\u001b[49m\u001b[43m)\u001b[49m\u001b[43m[\u001b[49m\u001b[43mfunc_total\u001b[49m\u001b[43m]\u001b[49m(\n\u001b[32m    511\u001b[39m         window,\n\u001b[32m    512\u001b[39m         **parameters_total,\n\u001b[32m    513\u001b[39m     )\n\u001b[32m    514\u001b[39m     eval_result = np.array([eval_result])\n\u001b[32m    516\u001b[39m \u001b[38;5;28;01mfor\u001b[39;00m ax \u001b[38;5;129;01min\u001b[39;00m \u001b[38;5;28mrange\u001b[39m(\u001b[38;5;28mlen\u001b[39m(header_names)):\n",
      "\u001b[31mKeyError\u001b[39m: 'spectrogram_mean_coeff'"
     ]
    }
   ],
   "source": [
    "import tsfel\n",
    "import pandas as pd\n",
    "\n",
    "# load dataset\n",
    "data = tsfel.datasets.load_biopluxecg()\n",
    "\n",
    "# Retrieves a pre-defined feature configuration file to extract the temporal, statistical and spectral feature sets\n",
    "cfg = tsfel.get_features_by_domain()\n",
    "\n",
    "# Extract features\n",
    "X = tsfel.time_series_features_extractor(cfg, data)"
   ]
  }
 ],
 "metadata": {
  "kernelspec": {
   "display_name": "touchPanel",
   "language": "python",
   "name": "python3"
  },
  "language_info": {
   "codemirror_mode": {
    "name": "ipython",
    "version": 3
   },
   "file_extension": ".py",
   "mimetype": "text/x-python",
   "name": "python",
   "nbconvert_exporter": "python",
   "pygments_lexer": "ipython3",
   "version": "3.13.0"
  }
 },
 "nbformat": 4,
 "nbformat_minor": 5
}
